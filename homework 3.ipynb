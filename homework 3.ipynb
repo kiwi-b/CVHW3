{
 "cells": [
  {
   "cell_type": "code",
   "execution_count": 107,
   "id": "e975ee7a",
   "metadata": {},
   "outputs": [],
   "source": [
    "#Kiwi Randolph\n",
    "from sklearn.cluster import KMeans\n",
    "from sklearn.neighbors import NearestNeighbors\n",
    "from sklearn.neighbors import KNeighborsClassifier\n",
    "from sklearn.metrics import accuracy_score, confusion_matrix\n",
    "from scipy.spatial.distance import cdist\n",
    "import numpy as np "
   ]
  },
  {
   "cell_type": "code",
   "execution_count": 61,
   "id": "14ea6661",
   "metadata": {},
   "outputs": [
    {
     "name": "stdout",
     "output_type": "stream",
     "text": [
      "(1888,)\n"
     ]
    }
   ],
   "source": [
    "trainSIFT = np.load('train_D-1.npy', allow_pickle=True)\n",
    "testSIFT = np.load('test_D-1.npy', allow_pickle=True)\n",
    "print(trainSIFT.shape)"
   ]
  },
  {
   "cell_type": "code",
   "execution_count": null,
   "id": "7b3191a5",
   "metadata": {
    "scrolled": true
   },
   "outputs": [],
   "source": [
    "sift_train_concatenated = np.concatenate(trainSIFT, axis=0)\n",
    "sift_test_concatenated = np.concatenate(testSIFT, axis=0)\n",
    "clusterTrain, labelTrain = kmeans_clustering(150, sift_train_concatenated)\n",
    "clusterTest, labelTest = kmeans_clustering(150, sift_test_concatenated)"
   ]
  },
  {
   "cell_type": "code",
   "execution_count": 108,
   "id": "0a91dfb1",
   "metadata": {},
   "outputs": [],
   "source": [
    "def kmeans_clustering(cluster, trainf):\n",
    "    kmeans = KMeans(n_clusters = cluster, random_state = 0, init = 'k-means++', n_init = 15, max_iter=100)\n",
    "\n",
    "    kvalue = kmeans.fit(trainf)\n",
    "    labels = kmeans.predict(trainf)\n",
    "    \n",
    "    cluster = kmeans.cluster_centers_\n",
    "    \n",
    "    return cluster, labels\n",
    "\n",
    "# def build_bow_representation(sift_features, labels, cluster_centers):\n",
    "#     bow_representation = []\n",
    "#     for i, features in enumerate(sift_features):\n",
    "#         bow_vector = np.bincount(labels[i], minlength=len(cluster_centers))\n",
    "#         bow_representation.append(bow_vector)\n",
    "#     return np.array(bow_representation)\n",
    "\n",
    "def build_bow_features(data, visual_words):\n",
    "    bow_features = []\n",
    "    for descriptors in data:\n",
    "        distances = cdist(descriptors, visual_words)\n",
    "        nearest_visual_words = np.argmin(distances, axis=1)\n",
    "        histogram, _ = np.histogram(nearest_visual_words, bins=range(len(visual_words) + 1))\n",
    "        bow_features.append(histogram)\n",
    "    return np.array(bow_features)\n",
    "\n",
    "\n",
    "def kNN(train_bow_list, trainingLabels, test_bow_list, n_neighbors):\n",
    "    knn_model = KNeighborsClassifier(n_neighbors=n_neighbors)\n",
    "    \n",
    "    knn_model.fit(train_bow_list, trainingLabels)\n",
    "    \n",
    "    predictions = knn_model.predict(test_bow_list)\n",
    "    \n",
    "    return predictions"
   ]
  },
  {
   "cell_type": "code",
   "execution_count": 109,
   "id": "ce18953a",
   "metadata": {
    "scrolled": true
   },
   "outputs": [
    {
     "name": "stdout",
     "output_type": "stream",
     "text": [
      "(1888,)\n",
      "(800,)\n"
     ]
    }
   ],
   "source": [
    "trainLabel = np.load('train_gs-1.npy')\n",
    "testLabel = np.load('test_gs.npy')\n",
    "trainLabel = np.load('train_gs-1.npy').reshape(-1)\n",
    "testLabel = np.load('test_gs.npy').reshape(-1)\n",
    "print(trainLabel.shape)\n",
    "print(testLabel.shape)\n",
    "labelTrain_reshaped = np.array_split(labelTrain, len(trainSIFT))\n",
    "labelTest_reshaped = np.array_split(labelTest, len(testSIFT))\n",
    "\n",
    "# BOWtrain = build_bow_representation(trainSIFT, labelTrain_reshaped, clusterTrain)\n",
    "# BOWtest = build_bow_representation(testSIFT, labelTest_reshaped, clusterTest)\n",
    "BOWtrain = build_bow_features(trainSIFT, clusterTrain)\n",
    "BOWtest = build_bow_features(testSIFT, clusterTest)\n",
    "\n",
    "# BOWtrain = assign_bow(trainSIFT, clusterTrain, trainLabel)\n",
    "# BOWtest = assign_bow(testSIFT, clusterTest, testLabel)\n",
    "# print(BOWtrain)\n",
    "# print(BOWtest)\n"
   ]
  },
  {
   "cell_type": "code",
   "execution_count": 110,
   "id": "8d93db57",
   "metadata": {
    "scrolled": true
   },
   "outputs": [
    {
     "name": "stdout",
     "output_type": "stream",
     "text": [
      "Accuracy: 15.875 %\n",
      "Confusion Matrix:\n",
      "[[ 1 31  0 21  2  4 12 29]\n",
      " [ 6  0 13  2 14 32 24  9]\n",
      " [ 0 21  0 20  3  6 21 29]\n",
      " [ 1  1  2 11 12 37 25 11]\n",
      " [ 0  3  0 14 10  9 49 15]\n",
      " [ 1 15  0 14  3 10 34 23]\n",
      " [ 0  2  1  7 10 11 65  4]\n",
      " [ 0  6  1 11 10 16 26 30]]\n"
     ]
    }
   ],
   "source": [
    "predictions = kNN(BOWtrain, trainLabel, BOWtest, n_neighbors=20)\n",
    "\n",
    "\n",
    "# # Flatten the arrays for compatibility\n",
    "# testLabel_flat = testLabel.flatten()\n",
    "# predicted_labels_flat = predicted_labels.flatten()\n",
    "\n",
    "\n",
    "\n",
    "accuracy = accuracy_score(testLabel, predictions)\n",
    "print(\"Accuracy:\", (accuracy * 100), \"%\")\n",
    "conf_matrix = confusion_matrix(testLabel, predictions)\n",
    "print(\"Confusion Matrix:\")\n",
    "print(conf_matrix)"
   ]
  },
  {
   "cell_type": "code",
   "execution_count": null,
   "id": "a4913ea9",
   "metadata": {},
   "outputs": [],
   "source": []
  },
  {
   "cell_type": "code",
   "execution_count": null,
   "id": "ff27d095",
   "metadata": {},
   "outputs": [],
   "source": []
  },
  {
   "cell_type": "code",
   "execution_count": null,
   "id": "f92cdd4f",
   "metadata": {},
   "outputs": [],
   "source": []
  }
 ],
 "metadata": {
  "kernelspec": {
   "display_name": "Python 3 (ipykernel)",
   "language": "python",
   "name": "python3"
  },
  "language_info": {
   "codemirror_mode": {
    "name": "ipython",
    "version": 3
   },
   "file_extension": ".py",
   "mimetype": "text/x-python",
   "name": "python",
   "nbconvert_exporter": "python",
   "pygments_lexer": "ipython3",
   "version": "3.11.5"
  }
 },
 "nbformat": 4,
 "nbformat_minor": 5
}

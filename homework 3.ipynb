{
 "cells": [
  {
   "cell_type": "code",
   "execution_count": 7,
   "id": "e975ee7a",
   "metadata": {},
   "outputs": [],
   "source": [
    "#Kiwi Randolph\n",
    "from sklearn.cluster import KMeans\n",
    "from sklearn.neighbors import NearestNeighbors\n",
    "from sklearn.neighbors import KNeighborsClassifier\n",
    "from sklearn.metrics import accuracy_score, confusion_matrix\n",
    "import numpy as np "
   ]
  },
  {
   "cell_type": "code",
   "execution_count": 61,
   "id": "14ea6661",
   "metadata": {},
   "outputs": [
    {
     "name": "stdout",
     "output_type": "stream",
     "text": [
      "(1888,)\n"
     ]
    }
   ],
   "source": [
    "trainSIFT = np.load('train_D-1.npy', allow_pickle=True)\n",
    "testSIFT = np.load('test_D-1.npy', allow_pickle=True)\n",
    "print(trainSIFT.shape)"
   ]
  },
  {
   "cell_type": "code",
   "execution_count": 101,
   "id": "7b3191a5",
   "metadata": {
    "scrolled": true
   },
   "outputs": [],
   "source": [
    "sift_train_concatenated = np.concatenate(trainSIFT, axis=0)\n",
    "sift_test_concatenated = np.concatenate(testSIFT, axis=0)\n",
    "clusterTrain, labelTrain = kmeans_clustering(50, sift_train_concatenated)\n",
    "clusterTest, labelTest = kmeans_clustering(50, sift_test_concatenated)"
   ]
  },
  {
   "cell_type": "code",
   "execution_count": 98,
   "id": "0a91dfb1",
   "metadata": {},
   "outputs": [],
   "source": [
    "def kmeans_clustering(cluster, trainf):\n",
    "    kmeans = KMeans(n_clusters = cluster, random_state = 0, init = 'k-means++', n_init = 15, max_iter=100)\n",
    "\n",
    "    kvalue = kmeans.fit(trainf)\n",
    "    labels = kmeans.predict(trainf)\n",
    "    \n",
    "    cluster = kmeans.cluster_centers_\n",
    "    \n",
    "    return cluster, labels\n",
    "\n",
    "def build_bow_representation(sift_features, labels, cluster_centers):\n",
    "    bow_representation = []\n",
    "    for i, features in enumerate(sift_features):\n",
    "        bow_vector = np.bincount(labels[i], minlength=len(cluster_centers))\n",
    "        bow_representation.append(bow_vector)\n",
    "    return np.array(bow_representation)\n",
    "\n",
    "\n",
    "def kNN(train_bow_list, trainingLabels, test_bow_list, n_neighbors):\n",
    "    knn_model = KNeighborsClassifier(n_neighbors=n_neighbors)\n",
    "    \n",
    "    knn_model.fit(train_bow_list, trainingLabels)\n",
    "    \n",
    "    predictions = knn_model.predict(test_bow_list)\n",
    "    \n",
    "    return predictions"
   ]
  },
  {
   "cell_type": "code",
   "execution_count": 102,
   "id": "ce18953a",
   "metadata": {
    "scrolled": true
   },
   "outputs": [
    {
     "name": "stdout",
     "output_type": "stream",
     "text": [
      "(1888,)\n",
      "(800,)\n"
     ]
    }
   ],
   "source": [
    "trainLabel = np.load('train_gs-1.npy')\n",
    "testLabel = np.load('test_gs.npy')\n",
    "trainLabel = np.load('train_gs-1.npy').reshape(-1)\n",
    "testLabel = np.load('test_gs.npy').reshape(-1)\n",
    "print(trainLabel.shape)\n",
    "print(testLabel.shape)\n",
    "labelTrain_reshaped = np.array_split(labelTrain, len(trainSIFT))\n",
    "labelTest_reshaped = np.array_split(labelTest, len(testSIFT))\n",
    "\n",
    "BOWtrain = build_bow_representation(trainSIFT, labelTrain_reshaped, clusterTrain)\n",
    "BOWtest = build_bow_representation(testSIFT, labelTest_reshaped, clusterTest)\n",
    "\n",
    "\n",
    "# BOWtrain = assign_bow(trainSIFT, clusterTrain, trainLabel)\n",
    "# BOWtest = assign_bow(testSIFT, clusterTest, testLabel)\n",
    "# print(BOWtrain)\n",
    "# print(BOWtest)\n"
   ]
  },
  {
   "cell_type": "code",
   "execution_count": 106,
   "id": "8d93db57",
   "metadata": {
    "scrolled": true
   },
   "outputs": [
    {
     "name": "stdout",
     "output_type": "stream",
     "text": [
      "Accuracy: 12.5 %\n",
      "Confusion Matrix:\n",
      "[[12  6  6 11 13 23 16 13]\n",
      " [10 10  7  7 13 22 17 14]\n",
      " [11  7  3  8 17 22 16 16]\n",
      " [13  9  3  9 18 24 14 10]\n",
      " [13 10  6 10 15 19 19  8]\n",
      " [12  7  4 12 10 22 13 20]\n",
      " [ 6  7  7  6 11 30 11 22]\n",
      " [17  9  7  3  9 18 19 18]]\n"
     ]
    }
   ],
   "source": [
    "predictions = kNN(BOWtrain, trainLabel, BOWtest, n_neighbors=20)\n",
    "\n",
    "\n",
    "# # Flatten the arrays for compatibility\n",
    "# testLabel_flat = testLabel.flatten()\n",
    "# predicted_labels_flat = predicted_labels.flatten()\n",
    "\n",
    "\n",
    "\n",
    "accuracy = accuracy_score(testLabel, predictions)\n",
    "print(\"Accuracy:\", (accuracy * 100), \"%\")\n",
    "conf_matrix = confusion_matrix(testLabel, predictions)\n",
    "print(\"Confusion Matrix:\")\n",
    "print(conf_matrix)"
   ]
  },
  {
   "cell_type": "code",
   "execution_count": null,
   "id": "a4913ea9",
   "metadata": {},
   "outputs": [],
   "source": []
  },
  {
   "cell_type": "code",
   "execution_count": null,
   "id": "24bf0970",
   "metadata": {},
   "outputs": [],
   "source": []
  },
  {
   "cell_type": "code",
   "execution_count": null,
   "id": "2ca52cc5",
   "metadata": {},
   "outputs": [],
   "source": []
  }
 ],
 "metadata": {
  "kernelspec": {
   "display_name": "Python 3 (ipykernel)",
   "language": "python",
   "name": "python3"
  },
  "language_info": {
   "codemirror_mode": {
    "name": "ipython",
    "version": 3
   },
   "file_extension": ".py",
   "mimetype": "text/x-python",
   "name": "python",
   "nbconvert_exporter": "python",
   "pygments_lexer": "ipython3",
   "version": "3.11.5"
  }
 },
 "nbformat": 4,
 "nbformat_minor": 5
}
